{
  "nbformat": 4,
  "nbformat_minor": 0,
  "metadata": {
    "colab": {
      "provenance": [],
      "mount_file_id": "1wygD3Iro7rQEgfaE0D6HV1QX_jasTfV2",
      "authorship_tag": "ABX9TyM3vf9XT294gc1lzjvBNep1",
      "include_colab_link": true
    },
    "kernelspec": {
      "name": "python3",
      "display_name": "Python 3"
    },
    "language_info": {
      "name": "python"
    }
  },
  "cells": [
    {
      "cell_type": "markdown",
      "metadata": {
        "id": "view-in-github",
        "colab_type": "text"
      },
      "source": [
        "<a href=\"https://colab.research.google.com/github/CODIM91/MBD/blob/main/Ejercicio.ipynb\" target=\"_parent\"><img src=\"https://colab.research.google.com/assets/colab-badge.svg\" alt=\"Open In Colab\"/></a>"
      ]
    },
    {
      "cell_type": "code",
      "execution_count": null,
      "metadata": {
        "id": "vZ6lm4Sxci0l"
      },
      "outputs": [],
      "source": [
        "import pandas as pd\n",
        "import numpy as np\n",
        "import matplotlib.pyplot as plt"
      ]
    },
    {
      "cell_type": "code",
      "source": [
        "df = pd.read_csv('/content/drive/MyDrive/datasets/Challenge_4y5 (1).csv')"
      ],
      "metadata": {
        "id": "qu6iepHce03C"
      },
      "execution_count": null,
      "outputs": []
    },
    {
      "cell_type": "code",
      "source": [
        "df.head()"
      ],
      "metadata": {
        "colab": {
          "base_uri": "https://localhost:8080/",
          "height": 206
        },
        "id": "7OCSJTD_fDhU",
        "outputId": "7ab2121f-faa9-4824-c2c8-e7ee52a4637d"
      },
      "execution_count": null,
      "outputs": [
        {
          "output_type": "execute_result",
          "data": {
            "text/plain": [
              "     Cliente                                Producto    sem44    sem43  \\\n",
              "0  500000055                    BEBIDAS REFRESCANTES   0.4227   0.4227   \n",
              "1  500000055  COLAS REGULAR INDIVIDUAL NO RETORNABLE   8.6016   6.0655   \n",
              "2  500000055       COLAS REGULAR FAMILIAR RETORNABLE  26.7700  22.8953   \n",
              "3  500000055                    LECHE UHT SABORIZADA   0.1409   0.1057   \n",
              "4  500000055                  COLAS LIGHT INDIVIDUAL   0.0000   1.2680   \n",
              "\n",
              "       sem42      sem41  \n",
              "0   0.000000   0.422700  \n",
              "1  12.680500   8.601600  \n",
              "2  46.847499  30.292399  \n",
              "3   0.000000   0.140900  \n",
              "4   2.536000   1.268000  "
            ],
            "text/html": [
              "\n",
              "  <div id=\"df-e42b2e93-d9af-4f71-b109-5a3de0a16096\">\n",
              "    <div class=\"colab-df-container\">\n",
              "      <div>\n",
              "<style scoped>\n",
              "    .dataframe tbody tr th:only-of-type {\n",
              "        vertical-align: middle;\n",
              "    }\n",
              "\n",
              "    .dataframe tbody tr th {\n",
              "        vertical-align: top;\n",
              "    }\n",
              "\n",
              "    .dataframe thead th {\n",
              "        text-align: right;\n",
              "    }\n",
              "</style>\n",
              "<table border=\"1\" class=\"dataframe\">\n",
              "  <thead>\n",
              "    <tr style=\"text-align: right;\">\n",
              "      <th></th>\n",
              "      <th>Cliente</th>\n",
              "      <th>Producto</th>\n",
              "      <th>sem44</th>\n",
              "      <th>sem43</th>\n",
              "      <th>sem42</th>\n",
              "      <th>sem41</th>\n",
              "    </tr>\n",
              "  </thead>\n",
              "  <tbody>\n",
              "    <tr>\n",
              "      <th>0</th>\n",
              "      <td>500000055</td>\n",
              "      <td>BEBIDAS REFRESCANTES</td>\n",
              "      <td>0.4227</td>\n",
              "      <td>0.4227</td>\n",
              "      <td>0.000000</td>\n",
              "      <td>0.422700</td>\n",
              "    </tr>\n",
              "    <tr>\n",
              "      <th>1</th>\n",
              "      <td>500000055</td>\n",
              "      <td>COLAS REGULAR INDIVIDUAL NO RETORNABLE</td>\n",
              "      <td>8.6016</td>\n",
              "      <td>6.0655</td>\n",
              "      <td>12.680500</td>\n",
              "      <td>8.601600</td>\n",
              "    </tr>\n",
              "    <tr>\n",
              "      <th>2</th>\n",
              "      <td>500000055</td>\n",
              "      <td>COLAS REGULAR FAMILIAR RETORNABLE</td>\n",
              "      <td>26.7700</td>\n",
              "      <td>22.8953</td>\n",
              "      <td>46.847499</td>\n",
              "      <td>30.292399</td>\n",
              "    </tr>\n",
              "    <tr>\n",
              "      <th>3</th>\n",
              "      <td>500000055</td>\n",
              "      <td>LECHE UHT SABORIZADA</td>\n",
              "      <td>0.1409</td>\n",
              "      <td>0.1057</td>\n",
              "      <td>0.000000</td>\n",
              "      <td>0.140900</td>\n",
              "    </tr>\n",
              "    <tr>\n",
              "      <th>4</th>\n",
              "      <td>500000055</td>\n",
              "      <td>COLAS LIGHT INDIVIDUAL</td>\n",
              "      <td>0.0000</td>\n",
              "      <td>1.2680</td>\n",
              "      <td>2.536000</td>\n",
              "      <td>1.268000</td>\n",
              "    </tr>\n",
              "  </tbody>\n",
              "</table>\n",
              "</div>\n",
              "      <button class=\"colab-df-convert\" onclick=\"convertToInteractive('df-e42b2e93-d9af-4f71-b109-5a3de0a16096')\"\n",
              "              title=\"Convert this dataframe to an interactive table.\"\n",
              "              style=\"display:none;\">\n",
              "        \n",
              "  <svg xmlns=\"http://www.w3.org/2000/svg\" height=\"24px\"viewBox=\"0 0 24 24\"\n",
              "       width=\"24px\">\n",
              "    <path d=\"M0 0h24v24H0V0z\" fill=\"none\"/>\n",
              "    <path d=\"M18.56 5.44l.94 2.06.94-2.06 2.06-.94-2.06-.94-.94-2.06-.94 2.06-2.06.94zm-11 1L8.5 8.5l.94-2.06 2.06-.94-2.06-.94L8.5 2.5l-.94 2.06-2.06.94zm10 10l.94 2.06.94-2.06 2.06-.94-2.06-.94-.94-2.06-.94 2.06-2.06.94z\"/><path d=\"M17.41 7.96l-1.37-1.37c-.4-.4-.92-.59-1.43-.59-.52 0-1.04.2-1.43.59L10.3 9.45l-7.72 7.72c-.78.78-.78 2.05 0 2.83L4 21.41c.39.39.9.59 1.41.59.51 0 1.02-.2 1.41-.59l7.78-7.78 2.81-2.81c.8-.78.8-2.07 0-2.86zM5.41 20L4 18.59l7.72-7.72 1.47 1.35L5.41 20z\"/>\n",
              "  </svg>\n",
              "      </button>\n",
              "      \n",
              "  <style>\n",
              "    .colab-df-container {\n",
              "      display:flex;\n",
              "      flex-wrap:wrap;\n",
              "      gap: 12px;\n",
              "    }\n",
              "\n",
              "    .colab-df-convert {\n",
              "      background-color: #E8F0FE;\n",
              "      border: none;\n",
              "      border-radius: 50%;\n",
              "      cursor: pointer;\n",
              "      display: none;\n",
              "      fill: #1967D2;\n",
              "      height: 32px;\n",
              "      padding: 0 0 0 0;\n",
              "      width: 32px;\n",
              "    }\n",
              "\n",
              "    .colab-df-convert:hover {\n",
              "      background-color: #E2EBFA;\n",
              "      box-shadow: 0px 1px 2px rgba(60, 64, 67, 0.3), 0px 1px 3px 1px rgba(60, 64, 67, 0.15);\n",
              "      fill: #174EA6;\n",
              "    }\n",
              "\n",
              "    [theme=dark] .colab-df-convert {\n",
              "      background-color: #3B4455;\n",
              "      fill: #D2E3FC;\n",
              "    }\n",
              "\n",
              "    [theme=dark] .colab-df-convert:hover {\n",
              "      background-color: #434B5C;\n",
              "      box-shadow: 0px 1px 3px 1px rgba(0, 0, 0, 0.15);\n",
              "      filter: drop-shadow(0px 1px 2px rgba(0, 0, 0, 0.3));\n",
              "      fill: #FFFFFF;\n",
              "    }\n",
              "  </style>\n",
              "\n",
              "      <script>\n",
              "        const buttonEl =\n",
              "          document.querySelector('#df-e42b2e93-d9af-4f71-b109-5a3de0a16096 button.colab-df-convert');\n",
              "        buttonEl.style.display =\n",
              "          google.colab.kernel.accessAllowed ? 'block' : 'none';\n",
              "\n",
              "        async function convertToInteractive(key) {\n",
              "          const element = document.querySelector('#df-e42b2e93-d9af-4f71-b109-5a3de0a16096');\n",
              "          const dataTable =\n",
              "            await google.colab.kernel.invokeFunction('convertToInteractive',\n",
              "                                                     [key], {});\n",
              "          if (!dataTable) return;\n",
              "\n",
              "          const docLinkHtml = 'Like what you see? Visit the ' +\n",
              "            '<a target=\"_blank\" href=https://colab.research.google.com/notebooks/data_table.ipynb>data table notebook</a>'\n",
              "            + ' to learn more about interactive tables.';\n",
              "          element.innerHTML = '';\n",
              "          dataTable['output_type'] = 'display_data';\n",
              "          await google.colab.output.renderOutput(dataTable, element);\n",
              "          const docLink = document.createElement('div');\n",
              "          docLink.innerHTML = docLinkHtml;\n",
              "          element.appendChild(docLink);\n",
              "        }\n",
              "      </script>\n",
              "    </div>\n",
              "  </div>\n",
              "  "
            ]
          },
          "metadata": {},
          "execution_count": 4
        }
      ]
    },
    {
      "cell_type": "code",
      "source": [
        "pivot_table = pd.pivot_table(df, values=['sem44', 'sem43', 'sem42', 'sem41'], index=['Cliente', 'Producto'], aggfunc=np.sum)"
      ],
      "metadata": {
        "id": "Qka0uagAoj6r"
      },
      "execution_count": null,
      "outputs": []
    },
    {
      "cell_type": "code",
      "source": [
        "best_products = []\n",
        "worst_products = []\n",
        "for Cliente in pivot_table.index.levels[0]:\n",
        "    total_sales = pivot_table.loc[Cliente].groupby('Producto').sum()\n",
        "    best_product = total_sales.idxmax()[0]\n",
        "    worst_product = total_sales.idxmin()[0]\n",
        "    best_products.append(best_product)\n",
        "    worst_products.append(worst_product)"
      ],
      "metadata": {
        "id": "AaHrfky4pqoR"
      },
      "execution_count": null,
      "outputs": []
    },
    {
      "cell_type": "code",
      "source": [
        "best_products_df = pd.DataFrame(best_products, columns=['Best Product'], index=pivot_table.index.levels[0])\n",
        "worst_products_df = pd.DataFrame(worst_products, columns=['Worst Product'], index=pivot_table.index.levels[0])\n",
        "\n"
      ],
      "metadata": {
        "id": "qQ1EzHgcrNyD"
      },
      "execution_count": null,
      "outputs": []
    },
    {
      "cell_type": "code",
      "source": [
        "results_df = pd.concat([best_products_df, worst_products_df], axis=1)"
      ],
      "metadata": {
        "id": "vp1Q2YmXrOPi"
      },
      "execution_count": null,
      "outputs": []
    },
    {
      "cell_type": "code",
      "source": [
        "print(results_df)"
      ],
      "metadata": {
        "colab": {
          "base_uri": "https://localhost:8080/"
        },
        "id": "9r9kRW6YrPjR",
        "outputId": "e6817d55-c569-4215-9815-0479793aebe9"
      },
      "execution_count": null,
      "outputs": [
        {
          "output_type": "stream",
          "name": "stdout",
          "text": [
            "                                   Best Product               Worst Product\n",
            "Cliente                                                                    \n",
            "500000055     COLAS REGULAR FAMILIAR RETORNABLE          BEBIDAS INFANTILES\n",
            "500000058     COLAS REGULAR FAMILIAR RETORNABLE  BEBIDAS DE SOYA INDIVIDUAL\n",
            "500000061     COLAS REGULAR FAMILIAR RETORNABLE       AGUA MINERAL FAMILIAR\n",
            "500000062     COLAS REGULAR FAMILIAR RETORNABLE       AGUA MINERAL FAMILIAR\n",
            "500000064     COLAS REGULAR FAMILIAR RETORNABLE       AGUA MINERAL FAMILIAR\n",
            "...                                         ...                         ...\n",
            "500257098   COLAS REGULAR INDIVIDUAL RETORNABLE  AGUA PURIFICADA INDIVIDUAL\n",
            "500257100  COLAS REGULAR FAMILIAR NO RETORNABLE       AGUA MINERAL FAMILIAR\n",
            "500257103     COLAS REGULAR FAMILIAR RETORNABLE     AGUA MINERAL INDIVIDUAL\n",
            "500257109   COLAS REGULAR INDIVIDUAL RETORNABLE     AGUA MINERAL INDIVIDUAL\n",
            "500257111     COLAS REGULAR FAMILIAR RETORNABLE     AGUA MINERAL INDIVIDUAL\n",
            "\n",
            "[66338 rows x 2 columns]\n"
          ]
        }
      ]
    },
    {
      "cell_type": "code",
      "source": [
        "count_df = results_df.groupby(['Best Product', 'Worst Product']).size().reset_index(name='Count')"
      ],
      "metadata": {
        "id": "LQttbr2Wuad-"
      },
      "execution_count": null,
      "outputs": []
    },
    {
      "cell_type": "code",
      "source": [
        "count_df = count_df.sort_values('Count', ascending=False)"
      ],
      "metadata": {
        "id": "WQB9CRVVv5C6"
      },
      "execution_count": null,
      "outputs": []
    },
    {
      "cell_type": "code",
      "source": [
        "count_df"
      ],
      "metadata": {
        "colab": {
          "base_uri": "https://localhost:8080/",
          "height": 424
        },
        "id": "ZVdGsw_av66m",
        "outputId": "b8bb06bd-ccf7-4514-e37b-c1a7d914f902"
      },
      "execution_count": null,
      "outputs": [
        {
          "output_type": "execute_result",
          "data": {
            "text/plain": [
              "                             Best Product  \\\n",
              "195     COLAS REGULAR FAMILIAR RETORNABLE   \n",
              "197     COLAS REGULAR FAMILIAR RETORNABLE   \n",
              "168  COLAS REGULAR FAMILIAR NO RETORNABLE   \n",
              "194     COLAS REGULAR FAMILIAR RETORNABLE   \n",
              "167  COLAS REGULAR FAMILIAR NO RETORNABLE   \n",
              "..                                    ...   \n",
              "24                AGUA MINERAL INDIVIDUAL   \n",
              "271   COLAS REGULAR INDIVIDUAL RETORNABLE   \n",
              "90               BEBIDAS DE SOYA FAMILIAR   \n",
              "287                            ISOTONICOS   \n",
              "89             AGUA SABORIZADA INDIVIDUAL   \n",
              "\n",
              "                           Worst Product  Count  \n",
              "195              AGUA MINERAL INDIVIDUAL  12002  \n",
              "197           AGUA PURIFICADA INDIVIDUAL   5711  \n",
              "168              AGUA MINERAL INDIVIDUAL   5463  \n",
              "194                AGUA MINERAL FAMILIAR   4889  \n",
              "167                AGUA MINERAL FAMILIAR   3042  \n",
              "..                                   ...    ...  \n",
              "24   COLAS REGULAR INDIVIDUAL RETORNABLE      1  \n",
              "271  SABORES REGULAR FAMILIAR RETORNABLE      1  \n",
              "90               AGUA MINERAL INDIVIDUAL      1  \n",
              "287  COLAS REGULAR INDIVIDUAL RETORNABLE      1  \n",
              "89                  LECHE UHT SABORIZADA      1  \n",
              "\n",
              "[459 rows x 3 columns]"
            ],
            "text/html": [
              "\n",
              "  <div id=\"df-dcb33da4-786d-4fe6-b625-1decde0a8886\">\n",
              "    <div class=\"colab-df-container\">\n",
              "      <div>\n",
              "<style scoped>\n",
              "    .dataframe tbody tr th:only-of-type {\n",
              "        vertical-align: middle;\n",
              "    }\n",
              "\n",
              "    .dataframe tbody tr th {\n",
              "        vertical-align: top;\n",
              "    }\n",
              "\n",
              "    .dataframe thead th {\n",
              "        text-align: right;\n",
              "    }\n",
              "</style>\n",
              "<table border=\"1\" class=\"dataframe\">\n",
              "  <thead>\n",
              "    <tr style=\"text-align: right;\">\n",
              "      <th></th>\n",
              "      <th>Best Product</th>\n",
              "      <th>Worst Product</th>\n",
              "      <th>Count</th>\n",
              "    </tr>\n",
              "  </thead>\n",
              "  <tbody>\n",
              "    <tr>\n",
              "      <th>195</th>\n",
              "      <td>COLAS REGULAR FAMILIAR RETORNABLE</td>\n",
              "      <td>AGUA MINERAL INDIVIDUAL</td>\n",
              "      <td>12002</td>\n",
              "    </tr>\n",
              "    <tr>\n",
              "      <th>197</th>\n",
              "      <td>COLAS REGULAR FAMILIAR RETORNABLE</td>\n",
              "      <td>AGUA PURIFICADA INDIVIDUAL</td>\n",
              "      <td>5711</td>\n",
              "    </tr>\n",
              "    <tr>\n",
              "      <th>168</th>\n",
              "      <td>COLAS REGULAR FAMILIAR NO RETORNABLE</td>\n",
              "      <td>AGUA MINERAL INDIVIDUAL</td>\n",
              "      <td>5463</td>\n",
              "    </tr>\n",
              "    <tr>\n",
              "      <th>194</th>\n",
              "      <td>COLAS REGULAR FAMILIAR RETORNABLE</td>\n",
              "      <td>AGUA MINERAL FAMILIAR</td>\n",
              "      <td>4889</td>\n",
              "    </tr>\n",
              "    <tr>\n",
              "      <th>167</th>\n",
              "      <td>COLAS REGULAR FAMILIAR NO RETORNABLE</td>\n",
              "      <td>AGUA MINERAL FAMILIAR</td>\n",
              "      <td>3042</td>\n",
              "    </tr>\n",
              "    <tr>\n",
              "      <th>...</th>\n",
              "      <td>...</td>\n",
              "      <td>...</td>\n",
              "      <td>...</td>\n",
              "    </tr>\n",
              "    <tr>\n",
              "      <th>24</th>\n",
              "      <td>AGUA MINERAL INDIVIDUAL</td>\n",
              "      <td>COLAS REGULAR INDIVIDUAL RETORNABLE</td>\n",
              "      <td>1</td>\n",
              "    </tr>\n",
              "    <tr>\n",
              "      <th>271</th>\n",
              "      <td>COLAS REGULAR INDIVIDUAL RETORNABLE</td>\n",
              "      <td>SABORES REGULAR FAMILIAR RETORNABLE</td>\n",
              "      <td>1</td>\n",
              "    </tr>\n",
              "    <tr>\n",
              "      <th>90</th>\n",
              "      <td>BEBIDAS DE SOYA FAMILIAR</td>\n",
              "      <td>AGUA MINERAL INDIVIDUAL</td>\n",
              "      <td>1</td>\n",
              "    </tr>\n",
              "    <tr>\n",
              "      <th>287</th>\n",
              "      <td>ISOTONICOS</td>\n",
              "      <td>COLAS REGULAR INDIVIDUAL RETORNABLE</td>\n",
              "      <td>1</td>\n",
              "    </tr>\n",
              "    <tr>\n",
              "      <th>89</th>\n",
              "      <td>AGUA SABORIZADA INDIVIDUAL</td>\n",
              "      <td>LECHE UHT SABORIZADA</td>\n",
              "      <td>1</td>\n",
              "    </tr>\n",
              "  </tbody>\n",
              "</table>\n",
              "<p>459 rows × 3 columns</p>\n",
              "</div>\n",
              "      <button class=\"colab-df-convert\" onclick=\"convertToInteractive('df-dcb33da4-786d-4fe6-b625-1decde0a8886')\"\n",
              "              title=\"Convert this dataframe to an interactive table.\"\n",
              "              style=\"display:none;\">\n",
              "        \n",
              "  <svg xmlns=\"http://www.w3.org/2000/svg\" height=\"24px\"viewBox=\"0 0 24 24\"\n",
              "       width=\"24px\">\n",
              "    <path d=\"M0 0h24v24H0V0z\" fill=\"none\"/>\n",
              "    <path d=\"M18.56 5.44l.94 2.06.94-2.06 2.06-.94-2.06-.94-.94-2.06-.94 2.06-2.06.94zm-11 1L8.5 8.5l.94-2.06 2.06-.94-2.06-.94L8.5 2.5l-.94 2.06-2.06.94zm10 10l.94 2.06.94-2.06 2.06-.94-2.06-.94-.94-2.06-.94 2.06-2.06.94z\"/><path d=\"M17.41 7.96l-1.37-1.37c-.4-.4-.92-.59-1.43-.59-.52 0-1.04.2-1.43.59L10.3 9.45l-7.72 7.72c-.78.78-.78 2.05 0 2.83L4 21.41c.39.39.9.59 1.41.59.51 0 1.02-.2 1.41-.59l7.78-7.78 2.81-2.81c.8-.78.8-2.07 0-2.86zM5.41 20L4 18.59l7.72-7.72 1.47 1.35L5.41 20z\"/>\n",
              "  </svg>\n",
              "      </button>\n",
              "      \n",
              "  <style>\n",
              "    .colab-df-container {\n",
              "      display:flex;\n",
              "      flex-wrap:wrap;\n",
              "      gap: 12px;\n",
              "    }\n",
              "\n",
              "    .colab-df-convert {\n",
              "      background-color: #E8F0FE;\n",
              "      border: none;\n",
              "      border-radius: 50%;\n",
              "      cursor: pointer;\n",
              "      display: none;\n",
              "      fill: #1967D2;\n",
              "      height: 32px;\n",
              "      padding: 0 0 0 0;\n",
              "      width: 32px;\n",
              "    }\n",
              "\n",
              "    .colab-df-convert:hover {\n",
              "      background-color: #E2EBFA;\n",
              "      box-shadow: 0px 1px 2px rgba(60, 64, 67, 0.3), 0px 1px 3px 1px rgba(60, 64, 67, 0.15);\n",
              "      fill: #174EA6;\n",
              "    }\n",
              "\n",
              "    [theme=dark] .colab-df-convert {\n",
              "      background-color: #3B4455;\n",
              "      fill: #D2E3FC;\n",
              "    }\n",
              "\n",
              "    [theme=dark] .colab-df-convert:hover {\n",
              "      background-color: #434B5C;\n",
              "      box-shadow: 0px 1px 3px 1px rgba(0, 0, 0, 0.15);\n",
              "      filter: drop-shadow(0px 1px 2px rgba(0, 0, 0, 0.3));\n",
              "      fill: #FFFFFF;\n",
              "    }\n",
              "  </style>\n",
              "\n",
              "      <script>\n",
              "        const buttonEl =\n",
              "          document.querySelector('#df-dcb33da4-786d-4fe6-b625-1decde0a8886 button.colab-df-convert');\n",
              "        buttonEl.style.display =\n",
              "          google.colab.kernel.accessAllowed ? 'block' : 'none';\n",
              "\n",
              "        async function convertToInteractive(key) {\n",
              "          const element = document.querySelector('#df-dcb33da4-786d-4fe6-b625-1decde0a8886');\n",
              "          const dataTable =\n",
              "            await google.colab.kernel.invokeFunction('convertToInteractive',\n",
              "                                                     [key], {});\n",
              "          if (!dataTable) return;\n",
              "\n",
              "          const docLinkHtml = 'Like what you see? Visit the ' +\n",
              "            '<a target=\"_blank\" href=https://colab.research.google.com/notebooks/data_table.ipynb>data table notebook</a>'\n",
              "            + ' to learn more about interactive tables.';\n",
              "          element.innerHTML = '';\n",
              "          dataTable['output_type'] = 'display_data';\n",
              "          await google.colab.output.renderOutput(dataTable, element);\n",
              "          const docLink = document.createElement('div');\n",
              "          docLink.innerHTML = docLinkHtml;\n",
              "          element.appendChild(docLink);\n",
              "        }\n",
              "      </script>\n",
              "    </div>\n",
              "  </div>\n",
              "  "
            ]
          },
          "metadata": {},
          "execution_count": 42
        }
      ]
    },
    {
      "cell_type": "code",
      "source": [],
      "metadata": {
        "id": "dkOLggPewBkW"
      },
      "execution_count": null,
      "outputs": []
    }
  ]
}